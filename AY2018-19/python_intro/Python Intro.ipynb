{
 "cells": [
  {
   "cell_type": "markdown",
   "metadata": {},
   "source": [
    "#### University of Zagreb\n",
    "#### Faculty of Electrical Engineering and Computing\n",
    "## Python\n",
    "### Artificial Intelligence 2015./2016.\n",
    "http://www.fer.unizg.hr/predmet/umjint\n",
    "\n",
    "(c) 2016, Martin Tutek"
   ]
  },
  {
   "cell_type": "markdown",
   "metadata": {},
   "source": [
    "*\"Python is a widely used high-level, general-purpose, interpreted, dynamic programming language. Its design philosophy emphasizes code readability, and its syntax allows programmers to express concepts in fewer lines of code than would be possible in languages such as C++ or Java.\"*"
   ]
  },
  {
   "cell_type": "markdown",
   "metadata": {},
   "source": [
    "### <center>Debugging Python</center>\n",
    "![Debugging Python](misc/e16qOEj.gif)"
   ]
  },
  {
   "cell_type": "markdown",
   "metadata": {},
   "source": [
    "### Elementary operations"
   ]
  },
  {
   "cell_type": "code",
   "execution_count": 131,
   "metadata": {
    "collapsed": false
   },
   "outputs": [
    {
     "data": {
      "text/plain": [
       "10"
      ]
     },
     "execution_count": 131,
     "metadata": {},
     "output_type": "execute_result"
    }
   ],
   "source": [
    "10  # this is a comment"
   ]
  },
  {
   "cell_type": "code",
   "execution_count": 132,
   "metadata": {
    "collapsed": false
   },
   "outputs": [
    {
     "data": {
      "text/plain": [
       "10"
      ]
     },
     "execution_count": 132,
     "metadata": {},
     "output_type": "execute_result"
    }
   ],
   "source": [
    "_ # underscore, in this case, returns the result of the last executed statement"
   ]
  },
  {
   "cell_type": "code",
   "execution_count": 133,
   "metadata": {
    "collapsed": false
   },
   "outputs": [
    {
     "data": {
      "text/plain": [
       "(20, 0, 100, 1, 10000000000)"
      ]
     },
     "execution_count": 133,
     "metadata": {},
     "output_type": "execute_result"
    }
   ],
   "source": [
    "10 + 10, 10 - 10, 10 * 10, 10/10, 10**10"
   ]
  },
  {
   "cell_type": "code",
   "execution_count": 134,
   "metadata": {
    "collapsed": false
   },
   "outputs": [
    {
     "data": {
      "text/plain": [
       "int"
      ]
     },
     "execution_count": 134,
     "metadata": {},
     "output_type": "execute_result"
    }
   ],
   "source": [
    "type(10)"
   ]
  },
  {
   "cell_type": "code",
   "execution_count": 135,
   "metadata": {
    "collapsed": false
   },
   "outputs": [
    {
     "data": {
      "text/plain": [
       "(False, True, True)"
      ]
     },
     "execution_count": 135,
     "metadata": {},
     "output_type": "execute_result"
    }
   ],
   "source": [
    "10 == 10 and 10 > 10, 10 == 10 or 10 < 10, not 10 < 10"
   ]
  },
  {
   "cell_type": "markdown",
   "metadata": {},
   "source": [
    "### Built-in types"
   ]
  },
  {
   "cell_type": "code",
   "execution_count": 136,
   "metadata": {
    "collapsed": false
   },
   "outputs": [],
   "source": [
    "x, y, z = 5, 5., '5'"
   ]
  },
  {
   "cell_type": "code",
   "execution_count": 137,
   "metadata": {
    "collapsed": false
   },
   "outputs": [
    {
     "data": {
      "text/plain": [
       "(5, 5.0, '5')"
      ]
     },
     "execution_count": 137,
     "metadata": {},
     "output_type": "execute_result"
    }
   ],
   "source": [
    "x, y, z"
   ]
  },
  {
   "cell_type": "code",
   "execution_count": 138,
   "metadata": {
    "collapsed": false
   },
   "outputs": [
    {
     "data": {
      "text/plain": [
       "(int, float, str)"
      ]
     },
     "execution_count": 138,
     "metadata": {},
     "output_type": "execute_result"
    }
   ],
   "source": [
    "type(x), type(y), type(z)"
   ]
  },
  {
   "cell_type": "code",
   "execution_count": 139,
   "metadata": {
    "collapsed": false
   },
   "outputs": [
    {
     "name": "stdout",
     "output_type": "stream",
     "text": [
      "['__abs__', '__add__', '__and__', '__class__', '__cmp__', '__coerce__', '__delattr__', '__div__', '__divmod__', '__doc__', '__float__', '__floordiv__', '__format__', '__getattribute__', '__getnewargs__', '__hash__', '__hex__', '__index__', '__init__', '__int__', '__invert__', '__long__', '__lshift__', '__mod__', '__mul__', '__neg__', '__new__', '__nonzero__', '__oct__', '__or__', '__pos__', '__pow__', '__radd__', '__rand__', '__rdiv__', '__rdivmod__', '__reduce__', '__reduce_ex__', '__repr__', '__rfloordiv__', '__rlshift__', '__rmod__', '__rmul__', '__ror__', '__rpow__', '__rrshift__', '__rshift__', '__rsub__', '__rtruediv__', '__rxor__', '__setattr__', '__sizeof__', '__str__', '__sub__', '__subclasshook__', '__truediv__', '__trunc__', '__xor__', 'bit_length', 'conjugate', 'denominator', 'imag', 'numerator', 'real']\n"
     ]
    }
   ],
   "source": [
    "print dir(x) # All the methods (functions) related to an instance. You can ignore the ones with underscores (_) for now."
   ]
  },
  {
   "cell_type": "code",
   "execution_count": 140,
   "metadata": {
    "collapsed": false
   },
   "outputs": [
    {
     "name": "stdout",
     "output_type": "stream",
     "text": [
      "Help on built-in function bit_length:\n",
      "\n",
      "bit_length(...)\n",
      "    int.bit_length() -> int\n",
      "    \n",
      "    Number of bits necessary to represent self in binary.\n",
      "    >>> bin(37)\n",
      "    '0b100101'\n",
      "    >>> (37).bit_length()\n",
      "    6\n",
      "\n"
     ]
    }
   ],
   "source": [
    "help(x.bit_length)"
   ]
  },
  {
   "cell_type": "code",
   "execution_count": 141,
   "metadata": {
    "collapsed": false
   },
   "outputs": [
    {
     "name": "stdout",
     "output_type": "stream",
     "text": [
      "3\n"
     ]
    }
   ],
   "source": [
    "print x.bit_length()"
   ]
  },
  {
   "cell_type": "markdown",
   "metadata": {},
   "source": [
    "#### String operations"
   ]
  },
  {
   "cell_type": "code",
   "execution_count": 142,
   "metadata": {
    "collapsed": false
   },
   "outputs": [
    {
     "name": "stdout",
     "output_type": "stream",
     "text": [
      "['__add__', '__class__', '__contains__', '__delattr__', '__doc__', '__eq__', '__format__', '__ge__', '__getattribute__', '__getitem__', '__getnewargs__', '__getslice__', '__gt__', '__hash__', '__init__', '__le__', '__len__', '__lt__', '__mod__', '__mul__', '__ne__', '__new__', '__reduce__', '__reduce_ex__', '__repr__', '__rmod__', '__rmul__', '__setattr__', '__sizeof__', '__str__', '__subclasshook__', '_formatter_field_name_split', '_formatter_parser', 'capitalize', 'center', 'count', 'decode', 'encode', 'endswith', 'expandtabs', 'find', 'format', 'index', 'isalnum', 'isalpha', 'isdigit', 'islower', 'isspace', 'istitle', 'isupper', 'join', 'ljust', 'lower', 'lstrip', 'partition', 'replace', 'rfind', 'rindex', 'rjust', 'rpartition', 'rsplit', 'rstrip', 'split', 'splitlines', 'startswith', 'strip', 'swapcase', 'title', 'translate', 'upper', 'zfill']\n"
     ]
    }
   ],
   "source": [
    "print dir(z)"
   ]
  },
  {
   "cell_type": "code",
   "execution_count": 143,
   "metadata": {
    "collapsed": false
   },
   "outputs": [
    {
     "data": {
      "text/plain": [
       "'artificialINTELLIGENCE'"
      ]
     },
     "execution_count": 143,
     "metadata": {},
     "output_type": "execute_result"
    }
   ],
   "source": [
    "a, i = 'artificial', \"INTELLIGENCE\"\n",
    "ai = a + i ; ai"
   ]
  },
  {
   "cell_type": "code",
   "execution_count": 144,
   "metadata": {
    "collapsed": false
   },
   "outputs": [
    {
     "data": {
      "text/plain": [
       "'intelligenceARTIFICIAL'"
      ]
     },
     "execution_count": 144,
     "metadata": {},
     "output_type": "execute_result"
    }
   ],
   "source": [
    "ia = i.lower() + a.upper() ; ia"
   ]
  },
  {
   "cell_type": "code",
   "execution_count": 145,
   "metadata": {
    "collapsed": false
   },
   "outputs": [
    {
     "data": {
      "text/plain": [
       "22"
      ]
     },
     "execution_count": 145,
     "metadata": {},
     "output_type": "execute_result"
    }
   ],
   "source": [
    "len(ai)"
   ]
  },
  {
   "cell_type": "markdown",
   "metadata": {},
   "source": [
    "#### Error handling"
   ]
  },
  {
   "cell_type": "code",
   "execution_count": 146,
   "metadata": {
    "collapsed": false
   },
   "outputs": [
    {
     "ename": "AssertionError",
     "evalue": "I'm an error message",
     "output_type": "error",
     "traceback": [
      "\u001b[1;31m---------------------------------------------------------------------------\u001b[0m",
      "\u001b[1;31mAssertionError\u001b[0m                            Traceback (most recent call last)",
      "\u001b[1;32m<ipython-input-146-480dba0fbffa>\u001b[0m in \u001b[0;36m<module>\u001b[1;34m()\u001b[0m\n\u001b[1;32m----> 1\u001b[1;33m \u001b[1;32massert\u001b[0m \u001b[0mlen\u001b[0m\u001b[1;33m(\u001b[0m\u001b[0mia\u001b[0m\u001b[1;33m)\u001b[0m \u001b[1;33m!=\u001b[0m \u001b[0mlen\u001b[0m\u001b[1;33m(\u001b[0m\u001b[0mai\u001b[0m\u001b[1;33m)\u001b[0m\u001b[1;33m,\u001b[0m \u001b[1;34m\"I'm an error message\"\u001b[0m\u001b[1;33m\u001b[0m\u001b[0m\n\u001b[0m",
      "\u001b[1;31mAssertionError\u001b[0m: I'm an error message"
     ]
    }
   ],
   "source": [
    "assert len(ia) != len(ai), \"I'm an error message\""
   ]
  },
  {
   "cell_type": "code",
   "execution_count": 147,
   "metadata": {
    "collapsed": false
   },
   "outputs": [
    {
     "name": "stdout",
     "output_type": "stream",
     "text": [
      "unsupported operand type(s) for +: 'int' and 'str'\n",
      "5five\n"
     ]
    }
   ],
   "source": [
    "number = 5 ; string = 'five'\n",
    "try:\n",
    "    number + string\n",
    "except TypeError as e:\n",
    "    print e\n",
    "    print str(number) + string"
   ]
  },
  {
   "cell_type": "code",
   "execution_count": 148,
   "metadata": {
    "collapsed": false
   },
   "outputs": [
    {
     "name": "stdout",
     "output_type": "stream",
     "text": [
      "5 5.0 5\n"
     ]
    }
   ],
   "source": [
    "five = '5'\n",
    "print five, float(five), int(five)"
   ]
  },
  {
   "cell_type": "markdown",
   "metadata": {},
   "source": [
    "### Lists"
   ]
  },
  {
   "cell_type": "code",
   "execution_count": 149,
   "metadata": {
    "collapsed": false
   },
   "outputs": [
    {
     "data": {
      "text/plain": [
       "(list, ['Terminator', 'HAL 9000', 'Tin Man', 'Ava'])"
      ]
     },
     "execution_count": 149,
     "metadata": {},
     "output_type": "execute_result"
    }
   ],
   "source": [
    "robots = ['Terminator', 'HAL 9000', 'Tin Man', 'Ava'] \n",
    "# Where do they come from? Which one is not like the rest?\n",
    "type(robots), robots"
   ]
  },
  {
   "cell_type": "code",
   "execution_count": 150,
   "metadata": {
    "collapsed": false
   },
   "outputs": [
    {
     "data": {
      "text/plain": [
       "('Terminator', 'Ava', 'Ava')"
      ]
     },
     "execution_count": 150,
     "metadata": {},
     "output_type": "execute_result"
    }
   ],
   "source": [
    "robots[0], robots[len(robots) - 1], robots[-1] # Python allows negative indexing"
   ]
  },
  {
   "cell_type": "code",
   "execution_count": 151,
   "metadata": {
    "collapsed": false
   },
   "outputs": [
    {
     "data": {
      "text/plain": [
       "['Terminator 2', 'HAL 9000', 'Tin Man', 'Ava']"
      ]
     },
     "execution_count": 151,
     "metadata": {},
     "output_type": "execute_result"
    }
   ],
   "source": [
    "robots[0] = 'Terminator 2' ; robots"
   ]
  },
  {
   "cell_type": "code",
   "execution_count": 152,
   "metadata": {
    "collapsed": false
   },
   "outputs": [],
   "source": [
    "robots.append(7/9) \n",
    "# Disclaimer: we know that seven of nine is not a robot"
   ]
  },
  {
   "cell_type": "code",
   "execution_count": 153,
   "metadata": {
    "collapsed": false
   },
   "outputs": [
    {
     "data": {
      "text/plain": [
       "['Terminator 2', 'HAL 9000', 'Tin Man', 'Ava', 0]"
      ]
     },
     "execution_count": 153,
     "metadata": {},
     "output_type": "execute_result"
    }
   ],
   "source": [
    "robots # Apparently, so does Python. Can you explain what happened here?"
   ]
  },
  {
   "cell_type": "code",
   "execution_count": 154,
   "metadata": {
    "collapsed": false
   },
   "outputs": [
    {
     "data": {
      "text/plain": [
       "0"
      ]
     },
     "execution_count": 154,
     "metadata": {},
     "output_type": "execute_result"
    }
   ],
   "source": [
    "robots.pop()"
   ]
  },
  {
   "cell_type": "code",
   "execution_count": 155,
   "metadata": {
    "collapsed": false
   },
   "outputs": [
    {
     "name": "stdout",
     "output_type": "stream",
     "text": [
      "[['Terminator', 'Terminator 2', 'Terminator 3'], 'HAL 9000', 'Tin Man', 'Ava']\n"
     ]
    }
   ],
   "source": [
    "# Lists in python can be nested - an element of a list can be a list, \n",
    "#   an element of that list can again be a list etc.\n",
    "robots[0] = ['Terminator', 'Terminator 2', 'Terminator 3'] ; print robots"
   ]
  },
  {
   "cell_type": "code",
   "execution_count": 156,
   "metadata": {
    "collapsed": false
   },
   "outputs": [
    {
     "name": "stdout",
     "output_type": "stream",
     "text": [
      "Terminator 2\n"
     ]
    }
   ],
   "source": [
    "# Nested lists are indexed in the same fashion as regular lists\n",
    "print robots[0][1]"
   ]
  },
  {
   "cell_type": "code",
   "execution_count": 157,
   "metadata": {
    "collapsed": false
   },
   "outputs": [
    {
     "data": {
      "text/plain": [
       "['HAL 9000', 'Tin Man', 'Ava']"
      ]
     },
     "execution_count": 157,
     "metadata": {},
     "output_type": "execute_result"
    }
   ],
   "source": [
    "robots = robots[1:] ; robots"
   ]
  },
  {
   "cell_type": "code",
   "execution_count": 158,
   "metadata": {
    "collapsed": false
   },
   "outputs": [
    {
     "name": "stdout",
     "output_type": "stream",
     "text": [
      "['Ava', 'Tin Man', 'HAL 9000']\n"
     ]
    }
   ],
   "source": [
    "robots.reverse() # The reverse operation is done in place - this means that the original list is changed\n",
    "print robots"
   ]
  },
  {
   "cell_type": "code",
   "execution_count": 159,
   "metadata": {
    "collapsed": false
   },
   "outputs": [
    {
     "name": "stdout",
     "output_type": "stream",
     "text": [
      "['Ava', 'HAL 9000', 'Tin Man']\n"
     ]
    }
   ],
   "source": [
    "robots = sorted(robots) # sorting is not done in place, so we need to assign the result\n",
    "print robots"
   ]
  },
  {
   "cell_type": "markdown",
   "metadata": {},
   "source": [
    "### Tuples"
   ]
  },
  {
   "cell_type": "code",
   "execution_count": 160,
   "metadata": {
    "collapsed": false
   },
   "outputs": [
    {
     "name": "stdout",
     "output_type": "stream",
     "text": [
      "('Ace', 'Ace')\n"
     ]
    }
   ],
   "source": [
    "pair = ('Ace', 'Ace') ; print pair"
   ]
  },
  {
   "cell_type": "code",
   "execution_count": 161,
   "metadata": {
    "collapsed": false
   },
   "outputs": [
    {
     "name": "stdout",
     "output_type": "stream",
     "text": [
      "Ace 2\n"
     ]
    }
   ],
   "source": [
    "print pair[0], len(pair)"
   ]
  },
  {
   "cell_type": "code",
   "execution_count": 162,
   "metadata": {
    "collapsed": false
   },
   "outputs": [
    {
     "name": "stdout",
     "output_type": "stream",
     "text": [
      "Ace\n",
      "Ace\n"
     ]
    }
   ],
   "source": [
    "a1, a2 = pair ; print a1 ; print a2"
   ]
  },
  {
   "cell_type": "code",
   "execution_count": 163,
   "metadata": {
    "collapsed": false
   },
   "outputs": [
    {
     "ename": "TypeError",
     "evalue": "'tuple' object does not support item assignment",
     "output_type": "error",
     "traceback": [
      "\u001b[1;31m---------------------------------------------------------------------------\u001b[0m",
      "\u001b[1;31mTypeError\u001b[0m                                 Traceback (most recent call last)",
      "\u001b[1;32m<ipython-input-163-de6ef1d2a051>\u001b[0m in \u001b[0;36m<module>\u001b[1;34m()\u001b[0m\n\u001b[1;32m----> 1\u001b[1;33m \u001b[0mpair\u001b[0m\u001b[1;33m[\u001b[0m\u001b[1;36m1\u001b[0m\u001b[1;33m]\u001b[0m \u001b[1;33m=\u001b[0m \u001b[1;34m'Seven'\u001b[0m \u001b[1;31m# No cheating - tuples are immutable\u001b[0m\u001b[1;33m\u001b[0m\u001b[0m\n\u001b[0m\u001b[0;32m      2\u001b[0m \u001b[1;31m# What does 'immutable' mean?\u001b[0m\u001b[1;33m\u001b[0m\u001b[1;33m\u001b[0m\u001b[0m\n",
      "\u001b[1;31mTypeError\u001b[0m: 'tuple' object does not support item assignment"
     ]
    }
   ],
   "source": [
    "pair[1] = 'Seven' # No cheating - tuples are immutable\n",
    "# What does 'immutable' mean?"
   ]
  },
  {
   "cell_type": "markdown",
   "metadata": {},
   "source": [
    "### Sets"
   ]
  },
  {
   "cell_type": "code",
   "execution_count": 164,
   "metadata": {
    "collapsed": false
   },
   "outputs": [
    {
     "name": "stdout",
     "output_type": "stream",
     "text": [
      "set(['zero', 'three', 'two', 'one'])\n"
     ]
    }
   ],
   "source": [
    "numbers = ['zero', 'one', 'two', 'three', 'three']\n",
    "number_set = set(numbers) ; print number_set"
   ]
  },
  {
   "cell_type": "code",
   "execution_count": 165,
   "metadata": {
    "collapsed": false
   },
   "outputs": [
    {
     "name": "stdout",
     "output_type": "stream",
     "text": [
      "set(['four', 'zero', 'three', 'two', 'one'])\n"
     ]
    }
   ],
   "source": [
    "number_set.add('four') ; print number_set"
   ]
  },
  {
   "cell_type": "code",
   "execution_count": 166,
   "metadata": {
    "collapsed": false
   },
   "outputs": [
    {
     "name": "stdout",
     "output_type": "stream",
     "text": [
      "True\n",
      "False\n"
     ]
    }
   ],
   "source": [
    "print 'three' in number_set ; print 'six' in number_set"
   ]
  },
  {
   "cell_type": "code",
   "execution_count": 167,
   "metadata": {
    "collapsed": false
   },
   "outputs": [
    {
     "name": "stdout",
     "output_type": "stream",
     "text": [
      "set([])\n"
     ]
    }
   ],
   "source": [
    "zero = 'zero'\n",
    "zero_set = set(zero) # Let's compute set intersection with &\n",
    "print number_set & zero_set # ?????"
   ]
  },
  {
   "cell_type": "code",
   "execution_count": 168,
   "metadata": {
    "collapsed": false
   },
   "outputs": [
    {
     "name": "stdout",
     "output_type": "stream",
     "text": [
      "set(['r', 'z', 'e', 'o'])\n"
     ]
    }
   ],
   "source": [
    "print zero_set # Strings are arrays of characters!"
   ]
  },
  {
   "cell_type": "code",
   "execution_count": 169,
   "metadata": {
    "collapsed": false
   },
   "outputs": [
    {
     "name": "stdout",
     "output_type": "stream",
     "text": [
      "set(['zero'])\n",
      "set(['zero'])\n"
     ]
    }
   ],
   "source": [
    "# Solution - wrap the string in a list\n",
    "zero_set = set([zero]) ; print zero_set ; print number_set & zero_set"
   ]
  },
  {
   "cell_type": "code",
   "execution_count": 170,
   "metadata": {
    "collapsed": false
   },
   "outputs": [
    {
     "name": "stdout",
     "output_type": "stream",
     "text": [
      "set(['four', 'one', 'three', 'two'])\n",
      "set(['four', 'zero', 'two', 'three', 'one'])\n"
     ]
    }
   ],
   "source": [
    "print number_set - zero_set ; print number_set | zero_set # Set subtraction and set union"
   ]
  },
  {
   "cell_type": "markdown",
   "metadata": {},
   "source": [
    "### Dictionaries"
   ]
  },
  {
   "cell_type": "code",
   "execution_count": 176,
   "metadata": {
    "collapsed": false
   },
   "outputs": [
    {
     "name": "stdout",
     "output_type": "stream",
     "text": [
      "{'intelligence': 5, 'is': 5, 'awesome': 1, 'artificial': 5, 'CENSORED': 4}\n",
      "5\n"
     ]
    }
   ],
   "source": [
    "frequencies = {'artificial' : 5, 'intelligence' : 5, 'is' : 5, \n",
    "               'awesome' : 1, 'CENSORED' : 4}\n",
    "print frequencies ; print frequencies['intelligence']"
   ]
  },
  {
   "cell_type": "code",
   "execution_count": 177,
   "metadata": {
    "collapsed": false
   },
   "outputs": [],
   "source": [
    "value = frequencies['CENSORED'] ; del frequencies['CENSORED']\n",
    "frequencies['awesome'] += value"
   ]
  },
  {
   "cell_type": "code",
   "execution_count": 178,
   "metadata": {
    "collapsed": false
   },
   "outputs": [
    {
     "name": "stdout",
     "output_type": "stream",
     "text": [
      "[('intelligence', 5), ('is', 5), ('awesome', 5), ('artificial', 5)]\n",
      "['intelligence', 'is', 'awesome', 'artificial']\n",
      "[5, 5, 5, 5]\n"
     ]
    }
   ],
   "source": [
    "print frequencies.items(); print frequencies.keys(); print frequencies.values()"
   ]
  },
  {
   "cell_type": "code",
   "execution_count": 179,
   "metadata": {
    "collapsed": false
   },
   "outputs": [
    {
     "name": "stdout",
     "output_type": "stream",
     "text": [
      "['__class__', '__cmp__', '__contains__', '__delattr__', '__delitem__', '__doc__', '__eq__', '__format__', '__ge__', '__getattribute__', '__getitem__', '__gt__', '__hash__', '__init__', '__iter__', '__le__', '__len__', '__lt__', '__ne__', '__new__', '__reduce__', '__reduce_ex__', '__repr__', '__setattr__', '__setitem__', '__sizeof__', '__str__', '__subclasshook__', 'clear', 'copy', 'fromkeys', 'get', 'has_key', 'items', 'iteritems', 'iterkeys', 'itervalues', 'keys', 'pop', 'popitem', 'setdefault', 'update', 'values', 'viewitems', 'viewkeys', 'viewvalues']\n"
     ]
    }
   ],
   "source": [
    "print dir(frequencies)"
   ]
  },
  {
   "cell_type": "markdown",
   "metadata": {},
   "source": [
    "#### Map, Filter, Reduce"
   ]
  },
  {
   "cell_type": "code",
   "execution_count": 180,
   "metadata": {
    "collapsed": false
   },
   "outputs": [
    {
     "name": "stdout",
     "output_type": "stream",
     "text": [
      "[1, 2, 3, 4, 5, 6, 7, 8, 9]\n"
     ]
    }
   ],
   "source": [
    "numbers = range(1, 10, 1) ; print numbers # from - to - step "
   ]
  },
  {
   "cell_type": "code",
   "execution_count": 181,
   "metadata": {
    "collapsed": false
   },
   "outputs": [
    {
     "name": "stdout",
     "output_type": "stream",
     "text": [
      "<type 'list'>\n"
     ]
    }
   ],
   "source": [
    "print type(numbers)"
   ]
  },
  {
   "cell_type": "code",
   "execution_count": 182,
   "metadata": {
    "collapsed": false
   },
   "outputs": [
    {
     "name": "stdout",
     "output_type": "stream",
     "text": [
      "[1, 4, 9, 16, 25, 36, 49, 64, 81]\n"
     ]
    }
   ],
   "source": [
    "squared_numbers = map(lambda x: x**2, numbers) ; print squared_numbers"
   ]
  },
  {
   "cell_type": "code",
   "execution_count": 183,
   "metadata": {
    "collapsed": false
   },
   "outputs": [
    {
     "name": "stdout",
     "output_type": "stream",
     "text": [
      "[5, 6, 7, 8, 9]\n"
     ]
    }
   ],
   "source": [
    "big_numbers = filter(lambda x: x > 4, numbers) ; print big_numbers"
   ]
  },
  {
   "cell_type": "code",
   "execution_count": 184,
   "metadata": {
    "collapsed": false
   },
   "outputs": [
    {
     "name": "stdout",
     "output_type": "stream",
     "text": [
      "45\n",
      "True\n"
     ]
    }
   ],
   "source": [
    "sum_of_numbers = reduce(lambda x, y: x+y, numbers) ; print sum_of_numbers ; print sum_of_numbers == sum(numbers)"
   ]
  },
  {
   "cell_type": "markdown",
   "metadata": {},
   "source": [
    "#### List comprehensions"
   ]
  },
  {
   "cell_type": "code",
   "execution_count": 185,
   "metadata": {
    "collapsed": false
   },
   "outputs": [
    {
     "name": "stdout",
     "output_type": "stream",
     "text": [
      "[1, 4, 9, 16, 25, 36, 49, 64, 81]\n"
     ]
    }
   ],
   "source": [
    "squared_numbers2 = [x*x for x in numbers] ; print squared_numbers2"
   ]
  },
  {
   "cell_type": "code",
   "execution_count": 186,
   "metadata": {
    "collapsed": false
   },
   "outputs": [
    {
     "name": "stdout",
     "output_type": "stream",
     "text": [
      "[5, 6, 7, 8, 9]\n"
     ]
    }
   ],
   "source": [
    "big_numbers2 = [x for x in numbers if x > 4] ; print big_numbers2"
   ]
  },
  {
   "cell_type": "markdown",
   "metadata": {},
   "source": [
    "#### Interested? Have a lot of free time?\n",
    "http://stackoverflow.com/questions/1247486/python-list-comprehension-vs-map/6407222#6407222"
   ]
  },
  {
   "cell_type": "markdown",
   "metadata": {},
   "source": [
    "### Iteration"
   ]
  },
  {
   "cell_type": "code",
   "execution_count": 187,
   "metadata": {
    "collapsed": false
   },
   "outputs": [],
   "source": [
    "# How can we be sure that all the squared numbers are really the same in the lists?\n",
    "length_of_squares = len(squared_numbers)\n",
    "length_of_squares2 = len(squared_numbers2)\n",
    "assert length_of_squares == length_of_squares2, \"Lengths don't match!\"\n",
    "\n",
    "for idx in range(length_of_squares):\n",
    "    assert squared_numbers[idx] == squared_numbers2[idx], \"Elements at location %d don't match!\" % idx"
   ]
  },
  {
   "cell_type": "code",
   "execution_count": 188,
   "metadata": {
    "collapsed": false
   },
   "outputs": [],
   "source": [
    "# Indexing sucks\n",
    "for idx, (sq1, sq2) in enumerate(zip(squared_numbers, squared_numbers2)):\n",
    "    assert sq1 == sq2, \"Elements at location %d don't match!\" % idx"
   ]
  },
  {
   "cell_type": "code",
   "execution_count": 190,
   "metadata": {
    "collapsed": false
   },
   "outputs": [
    {
     "name": "stdout",
     "output_type": "stream",
     "text": [
      "True\n"
     ]
    }
   ],
   "source": [
    "# One-liner\n",
    "print all([sq1 == sq2 for sq1, sq2 in zip(squared_numbers, squared_numbers2)])"
   ]
  },
  {
   "cell_type": "markdown",
   "metadata": {},
   "source": [
    "### Indentation\n",
    "Tabs or spaces"
   ]
  },
  {
   "cell_type": "code",
   "execution_count": 191,
   "metadata": {
    "collapsed": false
   },
   "outputs": [
    {
     "name": "stdout",
     "output_type": "stream",
     "text": [
      "What about this?\n"
     ]
    }
   ],
   "source": [
    "if False:\n",
    "    print 'Will this print?'\n",
    "print 'What about this?'"
   ]
  },
  {
   "cell_type": "code",
   "execution_count": 192,
   "metadata": {
    "collapsed": false
   },
   "outputs": [],
   "source": [
    "if False:\n",
    "    print 'This will surely not print'\n",
    "    print 'What about this?'"
   ]
  },
  {
   "cell_type": "code",
   "execution_count": 196,
   "metadata": {
    "collapsed": false
   },
   "outputs": [],
   "source": [
    "if False:\n",
    "    print 'This will, Shirley, not print'\n",
    "elif True:\n",
    "    pass\n",
    "else:\n",
    "    print 'But this won\\'t'"
   ]
  },
  {
   "cell_type": "markdown",
   "metadata": {},
   "source": [
    "### Functions"
   ]
  },
  {
   "cell_type": "code",
   "execution_count": 198,
   "metadata": {
    "collapsed": false
   },
   "outputs": [],
   "source": [
    "def a_function(an_argument): \n",
    "    print type(an_argument)"
   ]
  },
  {
   "cell_type": "code",
   "execution_count": 199,
   "metadata": {
    "collapsed": false
   },
   "outputs": [
    {
     "name": "stdout",
     "output_type": "stream",
     "text": [
      "<type 'int'>\n",
      "None\n",
      "<type 'str'>\n",
      "None\n"
     ]
    }
   ],
   "source": [
    "print a_function(5) ; print a_function('5') # What are the Nones???"
   ]
  },
  {
   "cell_type": "code",
   "execution_count": 200,
   "metadata": {
    "collapsed": false
   },
   "outputs": [],
   "source": [
    "def another_function(an_argument): return type(an_argument)"
   ]
  },
  {
   "cell_type": "code",
   "execution_count": 201,
   "metadata": {
    "collapsed": false
   },
   "outputs": [
    {
     "name": "stdout",
     "output_type": "stream",
     "text": [
      "<type 'int'>\n",
      "<type 'str'>\n"
     ]
    }
   ],
   "source": [
    "print another_function(5) ; print another_function('5') \n",
    "# Python returns None as default when no return is specified\n",
    "# This causes a lot of headaches when you forget to return a value and everything seems to work"
   ]
  },
  {
   "cell_type": "code",
   "execution_count": 202,
   "metadata": {
    "collapsed": false
   },
   "outputs": [],
   "source": [
    "# functions can have default values for arguments\n",
    "def ai(question='Hi, how are you?'):\n",
    "    answer = 'Very well, thank you!'\n",
    "    return question, answer # what type(s) are we returning?"
   ]
  },
  {
   "cell_type": "code",
   "execution_count": 203,
   "metadata": {
    "collapsed": false
   },
   "outputs": [
    {
     "name": "stdout",
     "output_type": "stream",
     "text": [
      "('Hi, how are you?', 'Very well, thank you!')\n"
     ]
    }
   ],
   "source": [
    "print ai()"
   ]
  },
  {
   "cell_type": "code",
   "execution_count": 204,
   "metadata": {
    "collapsed": false
   },
   "outputs": [
    {
     "name": "stdout",
     "output_type": "stream",
     "text": [
      "('How did the Python introduction class go?', 'Very well, thank you!')\n"
     ]
    }
   ],
   "source": [
    "print ai('How did the Python introduction class go?')"
   ]
  },
  {
   "cell_type": "markdown",
   "metadata": {},
   "source": [
    "### Classes"
   ]
  },
  {
   "cell_type": "code",
   "execution_count": 205,
   "metadata": {
    "collapsed": false
   },
   "outputs": [],
   "source": [
    "class AIShopAssistant:\n",
    "    \"\"\"\n",
    "    AI powered shop assistant\n",
    "    This is a docstring\n",
    "    \"\"\"\n",
    "    # this is a static variable \n",
    "    transactions = 0\n",
    "    \n",
    "    def __init__(self, name, money):\n",
    "        \"\"\"\n",
    "        Constructor\n",
    "            name: your name\n",
    "            money: your cash balance\n",
    "        \"\"\"\n",
    "        # these are instance variables \n",
    "        self.name = name\n",
    "        self.money = money\n",
    "        # what are instance variables? \n",
    "        # what is the difference between them and static variables?\n",
    "        print 'Hi %s, I am your intelligent shop assitant! Your account balance is %.2f' % (name, money)\n",
    "    \n",
    "    def money_left(self):\n",
    "        \"\"\"\n",
    "        Returns current account balance\n",
    "        \"\"\"\n",
    "        print 'You have %.2f money left!' % self.money\n",
    "    \n",
    "    def calculate_cost(self, price, amount):\n",
    "        \"\"\"\n",
    "            price: price of a single item\n",
    "            amount: amount of items to buy\n",
    "        Returns total cost for item\n",
    "        \"\"\"\n",
    "        return price * amount\n",
    "    \n",
    "    def buy(self, item, price, amount=1):\n",
    "        \"\"\"\n",
    "            item: name of item to buy\n",
    "            price : price of a single item\n",
    "            amount: amount of items to buy (default = 1)\n",
    "        \"\"\"\n",
    "        cost = self.calculate_cost(price, amount)\n",
    "        if cost > self.money:\n",
    "            print('Insufficient funds!')\n",
    "            return \n",
    "        \n",
    "        AIShopAssistant.transactions += 1\n",
    "        self.money -= cost\n",
    "        print 'You have purchased %d %s for a total of %.2f!' % (amount, item, cost)\n",
    "        print 'This is the #%d global AI powered shop assistant transaction!' % AIShopAssistant.transactions"
   ]
  },
  {
   "cell_type": "code",
   "execution_count": 206,
   "metadata": {
    "collapsed": false
   },
   "outputs": [
    {
     "name": "stdout",
     "output_type": "stream",
     "text": [
      "Hi John Connor, I am your intelligent shop assitant! Your account balance is 10.00\n",
      "You have 10.00 money left!\n",
      "Insufficient funds!\n"
     ]
    }
   ],
   "source": [
    "# The biggest problem of AI was always using plural\n",
    "terminator = AIShopAssistant('John Connor', 10)\n",
    "terminator.money_left()\n",
    "terminator.buy('Tulip', 3.10, 4)"
   ]
  },
  {
   "cell_type": "code",
   "execution_count": 207,
   "metadata": {
    "collapsed": false
   },
   "outputs": [
    {
     "name": "stdout",
     "output_type": "stream",
     "text": [
      "You have purchased 3 Tulip for a total of 9.30!\n",
      "This is the #1 global AI powered shop assistant transaction!\n"
     ]
    }
   ],
   "source": [
    "terminator.buy('Tulip', 3.10, 3)"
   ]
  },
  {
   "cell_type": "code",
   "execution_count": 208,
   "metadata": {
    "collapsed": false
   },
   "outputs": [
    {
     "name": "stdout",
     "output_type": "stream",
     "text": [
      "Hi Sarah Connor, I am your intelligent shop assitant! Your account balance is 1000.00\n",
      "You have purchased 50 Gun for a total of 500.00!\n",
      "This is the #2 global AI powered shop assistant transaction!\n"
     ]
    }
   ],
   "source": [
    "terminator2 = AIShopAssistant('Sarah Connor', 1000)\n",
    "terminator2.buy('Gun', 10, 50)"
   ]
  },
  {
   "cell_type": "markdown",
   "metadata": {
    "collapsed": true
   },
   "source": [
    "## Extra"
   ]
  },
  {
   "cell_type": "code",
   "execution_count": 209,
   "metadata": {
    "collapsed": false
   },
   "outputs": [
    {
     "name": "stdout",
     "output_type": "stream",
     "text": [
      "boatsboatsboats\n",
      "boatsboatsboats\n"
     ]
    }
   ],
   "source": [
    "# Repeat a String three times\n",
    "s = 'boats'\n",
    "print s + s + s ; print s*3"
   ]
  },
  {
   "cell_type": "code",
   "execution_count": 210,
   "metadata": {
    "collapsed": false
   },
   "outputs": [
    {
     "name": "stdout",
     "output_type": "stream",
     "text": [
      "['Mary', 'had', 'a', 'little', 'lamb']\n"
     ]
    }
   ],
   "source": [
    "# how to split strings?\n",
    "a_string = 'Mary had a little lamb'\n",
    "parts = a_string.split() # that easy?\n",
    "print parts"
   ]
  },
  {
   "cell_type": "code",
   "execution_count": 211,
   "metadata": {
    "collapsed": false
   },
   "outputs": [
    {
     "name": "stdout",
     "output_type": "stream",
     "text": [
      "Mary,had,a,little,lamb\n"
     ]
    }
   ],
   "source": [
    "# how to join strings?\n",
    "a_better_string = ','.join(parts)\n",
    "print a_better_string"
   ]
  },
  {
   "cell_type": "code",
   "execution_count": 212,
   "metadata": {
    "collapsed": false
   },
   "outputs": [
    {
     "name": "stdout",
     "output_type": "stream",
     "text": [
      "['__add__', '__class__', '__contains__', '__delattr__', '__doc__', '__eq__', '__format__', '__ge__', '__getattribute__', '__getitem__', '__getnewargs__', '__getslice__', '__gt__', '__hash__', '__init__', '__le__', '__len__', '__lt__', '__mod__', '__mul__', '__ne__', '__new__', '__reduce__', '__reduce_ex__', '__repr__', '__rmod__', '__rmul__', '__setattr__', '__sizeof__', '__str__', '__subclasshook__', '_formatter_field_name_split', '_formatter_parser', 'capitalize', 'center', 'count', 'decode', 'encode', 'endswith', 'expandtabs', 'find', 'format', 'index', 'isalnum', 'isalpha', 'isdigit', 'islower', 'isspace', 'istitle', 'isupper', 'join', 'ljust', 'lower', 'lstrip', 'partition', 'replace', 'rfind', 'rindex', 'rjust', 'rpartition', 'rsplit', 'rstrip', 'split', 'splitlines', 'startswith', 'strip', 'swapcase', 'title', 'translate', 'upper', 'zfill']\n",
      "\n",
      "Help on built-in function split:\n",
      "\n",
      "split(...)\n",
      "    S.split([sep [,maxsplit]]) -> list of strings\n",
      "    \n",
      "    Return a list of the words in the string S, using sep as the\n",
      "    delimiter string.  If maxsplit is given, at most maxsplit\n",
      "    splits are done. If sep is not specified or is None, any\n",
      "    whitespace string is a separator and empty strings are removed\n",
      "    from the result.\n",
      "\n",
      "None\n"
     ]
    }
   ],
   "source": [
    "# basically, all you need is dir & help\n",
    "print dir('')\n",
    "print \n",
    "print help(''.split)"
   ]
  },
  {
   "cell_type": "code",
   "execution_count": 213,
   "metadata": {
    "collapsed": false
   },
   "outputs": [
    {
     "name": "stdout",
     "output_type": "stream",
     "text": [
      "['cyan', 'magenta', 'yellow', 'black']\n"
     ]
    }
   ],
   "source": [
    "# pointers are always here\n",
    "colors = ['red', 'blue', 'green']\n",
    "\n",
    "better_colors = colors\n",
    "better_colors[0] = 'cyan'\n",
    "better_colors[1] = 'magenta'\n",
    "better_colors[2] = 'yellow'\n",
    "better_colors.append('black')\n",
    "print colors"
   ]
  },
  {
   "cell_type": "code",
   "execution_count": 216,
   "metadata": {
    "collapsed": false
   },
   "outputs": [
    {
     "name": "stdout",
     "output_type": "stream",
     "text": [
      "['red', 'blue', 'green'] ['blue']\n"
     ]
    }
   ],
   "source": [
    "colors = ['red', 'blue', 'green']\n",
    "# solution 1 : slice\n",
    "better_colors = colors[1:]\n",
    "better_colors[0] = 'cyan'\n",
    "print colors, better_colors"
   ]
  },
  {
   "cell_type": "code",
   "execution_count": 217,
   "metadata": {
    "collapsed": false
   },
   "outputs": [
    {
     "name": "stdout",
     "output_type": "stream",
     "text": [
      "['red', 'blue', 'green'] ['cyan', 'blue', 'green']\n"
     ]
    }
   ],
   "source": [
    "# solution 2 : new instance\n",
    "better_colors = list(colors) \n",
    "better_colors[0] = 'cyan'\n",
    "print colors, better_colors"
   ]
  },
  {
   "cell_type": "code",
   "execution_count": 218,
   "metadata": {
    "collapsed": false
   },
   "outputs": [
    {
     "name": "stdout",
     "output_type": "stream",
     "text": [
      "['red', 'blue', 'green'] ['cyan', 'blue', 'green']\n"
     ]
    }
   ],
   "source": [
    "# solution 3 : just use something called copy\n",
    "import copy\n",
    "better_colors = copy.copy(colors) \n",
    "better_colors[0] = 'cyan'\n",
    "print colors, better_colors"
   ]
  },
  {
   "cell_type": "code",
   "execution_count": 219,
   "metadata": {
    "collapsed": false
   },
   "outputs": [
    {
     "name": "stdout",
     "output_type": "stream",
     "text": [
      "Monica\n",
      "Joey\n",
      "Rachel\n",
      "Chandler\n",
      "Phoebe\n",
      "Ross\n"
     ]
    }
   ],
   "source": [
    "# some loops\n",
    "random_names = ['Monica', 'Joey', 'Rachel', 'Chandler', 'Phoebe', 'Ross']\n",
    "for name in random_names:\n",
    "    print name"
   ]
  },
  {
   "cell_type": "code",
   "execution_count": 220,
   "metadata": {
    "collapsed": false
   },
   "outputs": [
    {
     "name": "stdout",
     "output_type": "stream",
     "text": [
      "Monica\n",
      "Joey\n",
      "Rachel\n",
      "Chandler\n",
      "Phoebe\n",
      "Ross\n"
     ]
    }
   ],
   "source": [
    "names_len = len(random_names)\n",
    "for i in range(names_len):\n",
    "    print random_names[i]"
   ]
  },
  {
   "cell_type": "code",
   "execution_count": 221,
   "metadata": {
    "collapsed": false
   },
   "outputs": [
    {
     "name": "stdout",
     "output_type": "stream",
     "text": [
      "Monica\n",
      "Joey\n",
      "Rachel\n",
      "Chandler\n",
      "Phoebe\n",
      "Ross\n"
     ]
    }
   ],
   "source": [
    "i = 0\n",
    "while i < len(random_names):\n",
    "    print random_names[i]\n",
    "    i+=1"
   ]
  },
  {
   "cell_type": "code",
   "execution_count": 222,
   "metadata": {
    "collapsed": false
   },
   "outputs": [
    {
     "name": "stdout",
     "output_type": "stream",
     "text": [
      "['Monica', 'Joey', 'Rachel', 'Chandler', 'Phoebe', 'Ross', 'Robin', 'Barney', 'Ted', 'Lily', 'Eminem']\n"
     ]
    }
   ],
   "source": [
    "other_random_names = ['Robin', 'Barney', 'Ted', 'Lily', 'Eminem']\n",
    "really_random_names = random_names + other_random_names\n",
    "print really_random_names"
   ]
  },
  {
   "cell_type": "code",
   "execution_count": 223,
   "metadata": {
    "collapsed": false
   },
   "outputs": [
    {
     "name": "stdout",
     "output_type": "stream",
     "text": [
      "['Monica', 'Joey', 'Rachel', 'Chandler', 'Phoebe', 'Ross', 'Robin', 'Barney', 'Ted', 'Lily', 'Eminem']\n"
     ]
    }
   ],
   "source": [
    "random_names.extend(other_random_names)\n",
    "print random_names"
   ]
  },
  {
   "cell_type": "code",
   "execution_count": 224,
   "metadata": {
    "collapsed": false
   },
   "outputs": [
    {
     "ename": "TypeError",
     "evalue": "unhashable type: 'list'",
     "output_type": "error",
     "traceback": [
      "\u001b[1;31m---------------------------------------------------------------------------\u001b[0m",
      "\u001b[1;31mTypeError\u001b[0m                                 Traceback (most recent call last)",
      "\u001b[1;32m<ipython-input-224-038ebf2feb76>\u001b[0m in \u001b[0;36m<module>\u001b[1;34m()\u001b[0m\n\u001b[0;32m      2\u001b[0m \u001b[1;33m\u001b[0m\u001b[0m\n\u001b[0;32m      3\u001b[0m \u001b[1;31m# dictionary keys have to be hashable -- lists cannot be keys!\u001b[0m\u001b[1;33m\u001b[0m\u001b[1;33m\u001b[0m\u001b[0m\n\u001b[1;32m----> 4\u001b[1;33m \u001b[0mdictionary\u001b[0m\u001b[1;33m[\u001b[0m\u001b[0mlist\u001b[0m\u001b[1;33m(\u001b[0m\u001b[1;33m[\u001b[0m\u001b[1;34m'a'\u001b[0m\u001b[1;33m]\u001b[0m\u001b[1;33m)\u001b[0m\u001b[1;33m]\u001b[0m \u001b[1;33m=\u001b[0m \u001b[1;34m'x'\u001b[0m\u001b[1;33m\u001b[0m\u001b[0m\n\u001b[0m",
      "\u001b[1;31mTypeError\u001b[0m: unhashable type: 'list'"
     ]
    }
   ],
   "source": [
    "dictionary = {'a':'a', 'b':'b', 'c':'c'}\n",
    "\n",
    "# dictionary keys have to be hashable -- lists cannot be keys!\n",
    "dictionary[list(['a'])] = 'x'"
   ]
  },
  {
   "cell_type": "code",
   "execution_count": 225,
   "metadata": {
    "collapsed": false
   },
   "outputs": [
    {
     "name": "stdout",
     "output_type": "stream",
     "text": [
      "a\n",
      "b\n",
      "c\n"
     ]
    }
   ],
   "source": [
    "# common case - sort keys during iteration\n",
    "for key in sorted(dictionary.keys()):\n",
    "    print dictionary[key]"
   ]
  },
  {
   "cell_type": "code",
   "execution_count": 226,
   "metadata": {
    "collapsed": false
   },
   "outputs": [],
   "source": [
    "# files I/O\n",
    "with open('file.txt', 'w') as f:\n",
    "    for value in dictionary:\n",
    "        f.write(value+'\\n')"
   ]
  },
  {
   "cell_type": "code",
   "execution_count": 228,
   "metadata": {
    "collapsed": false
   },
   "outputs": [
    {
     "name": "stdout",
     "output_type": "stream",
     "text": [
      "a\n",
      "c\n",
      "b\n"
     ]
    }
   ],
   "source": [
    "with open('file.txt', 'r') as f:\n",
    "    for line in f:\n",
    "        print(line.strip()) #što se ovdje dogodilo?"
   ]
  },
  {
   "cell_type": "code",
   "execution_count": 229,
   "metadata": {
    "collapsed": true
   },
   "outputs": [],
   "source": [
    "########################################################\n",
    "#### Lab snippet: stack & queue\n",
    "########################################################\n",
    "\n",
    "class Stack:\n",
    "    \"A container with a last-in-first-out (LIFO) queuing policy.\"\n",
    "    def __init__(self):\n",
    "        self.list = []\n",
    "\n",
    "    def push(self,item):\n",
    "        \"Push 'item' onto the stack\"\n",
    "        self.list.append(item)\n",
    "\n",
    "    def pop(self):\n",
    "        \"Pop the most recently pushed item from the stack\"\n",
    "        return self.list.pop()\n",
    "\n",
    "    def isEmpty(self):\n",
    "        \"Returns true if the stack is empty\"\n",
    "        return len(self.list) == 0"
   ]
  },
  {
   "cell_type": "code",
   "execution_count": 230,
   "metadata": {
    "collapsed": true
   },
   "outputs": [],
   "source": [
    "class Queue:\n",
    "    \"A container with a first-in-first-out (FIFO) queuing policy.\"\n",
    "    def __init__(self):\n",
    "        self.list = []\n",
    "\n",
    "    def push(self,item):\n",
    "        \"Enqueue the 'item' into the queue\"\n",
    "        self.list.insert(0,item)\n",
    "\n",
    "    def pop(self):\n",
    "        \"\"\"\n",
    "          Dequeue the earliest enqueued item still in the queue. This\n",
    "          operation removes the item from the queue.\n",
    "        \"\"\"\n",
    "        return self.list.pop()\n",
    "\n",
    "    def isEmpty(self):\n",
    "        \"Returns true if the queue is empty\"\n",
    "        return len(self.list) == 0\n"
   ]
  },
  {
   "cell_type": "code",
   "execution_count": 231,
   "metadata": {
    "collapsed": false
   },
   "outputs": [
    {
     "name": "stdout",
     "output_type": "stream",
     "text": [
      "1\n",
      "2\n",
      "3\n",
      "4\n",
      "5\n",
      "6\n",
      "7\n",
      "8\n"
     ]
    }
   ],
   "source": [
    "some_data = [1, 2, 3, 4, 5, 6, 7, 8]\n",
    "queue = Queue()\n",
    "# add items\n",
    "for el in some_data:\n",
    "    queue.push(el)\n",
    "# remove items\n",
    "while not queue.isEmpty():\n",
    "    print queue.pop()"
   ]
  },
  {
   "cell_type": "code",
   "execution_count": 232,
   "metadata": {
    "collapsed": false
   },
   "outputs": [
    {
     "name": "stdout",
     "output_type": "stream",
     "text": [
      "8\n",
      "7\n",
      "6\n",
      "5\n",
      "4\n",
      "3\n",
      "2\n",
      "1\n"
     ]
    }
   ],
   "source": [
    "some_data = [1, 2, 3, 4, 5, 6, 7, 8]\n",
    "stack = Stack()\n",
    "# add items\n",
    "for el in some_data:\n",
    "    stack.push(el)\n",
    "# remove items\n",
    "while not stack.isEmpty():\n",
    "    print stack.pop()"
   ]
  },
  {
   "cell_type": "code",
   "execution_count": null,
   "metadata": {
    "collapsed": true
   },
   "outputs": [],
   "source": []
  }
 ],
 "metadata": {
  "kernelspec": {
   "display_name": "Python 2",
   "language": "python",
   "name": "python2"
  },
  "language_info": {
   "codemirror_mode": {
    "name": "ipython",
    "version": 2
   },
   "file_extension": ".py",
   "mimetype": "text/x-python",
   "name": "python",
   "nbconvert_exporter": "python",
   "pygments_lexer": "ipython2",
   "version": "2.7.6"
  }
 },
 "nbformat": 4,
 "nbformat_minor": 0
}
